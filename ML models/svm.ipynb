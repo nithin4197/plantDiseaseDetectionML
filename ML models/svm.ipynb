{
 "cells": [
  {
   "cell_type": "code",
   "execution_count": 1,
   "metadata": {
    "id": "SlVyfxUEmaf8"
   },
   "outputs": [],
   "source": [
    "import os\n",
    "import numpy as np\n",
    "from sklearn.model_selection import train_test_split\n",
    "from sklearn.preprocessing import LabelEncoder\n",
    "from skimage import io, color, transform\n",
    "from sklearn.svm import SVC\n",
    "from sklearn.metrics import classification_report, confusion_matrix, accuracy_score\n",
    "import matplotlib.pyplot as plt\n",
    "import seaborn as sns\n",
    "from skimage.util import random_noise\n",
    "\n",
    "# Constants\n",
    "image_size = (256, 256)\n",
    "num_classes = 2  # Number of classes\n",
    "\n",
    "# Load and preprocess the image dataset\n",
    "def load_dataset(data_dir):\n",
    "    X = []\n",
    "    y = []\n",
    "    for class_name in os.listdir(data_dir):\n",
    "        class_dir = os.path.join(data_dir, class_name)\n",
    "        for image_file in os.listdir(class_dir):\n",
    "            if image_file.endswith(\".JPG\"):\n",
    "                img = io.imread(os.path.join(class_dir, image_file))\n",
    "                img = transform.resize(img, image_size)\n",
    "                img = color.rgb2gray(img)\n",
    "                X.append(img.flatten())\n",
    "                y.append(class_name)\n",
    "\n",
    "    X = np.array(X)\n",
    "    y = np.array(y)\n",
    "\n",
    "    # Normalize pixel values to [0, 1]\n",
    "    X = X / 255.0\n",
    "\n",
    "    # Encode labels\n",
    "    label_encoder = LabelEncoder()\n",
    "    y = label_encoder.fit_transform(y)\n",
    "\n",
    "    return X, y\n",
    "\n",
    "\n"
   ]
  },
  {
   "cell_type": "code",
   "execution_count": 2,
   "metadata": {
    "id": "9Ju13G6ApPXQ"
   },
   "outputs": [],
   "source": [
    "# Load the dataset\n",
    "data_dir = r'C:\\Users\\HAI\\Desktop\\project\\New folder'\n",
    "X, y = load_dataset(data_dir)\n",
    "\n",
    "# Split the dataset into training and testing sets\n",
    "X_train, X_test, y_train, y_test = train_test_split(X, y, test_size=0.3, random_state=42)\n"
   ]
  },
  {
   "cell_type": "code",
   "execution_count": null,
   "metadata": {
    "colab": {
     "base_uri": "https://localhost:8080/",
     "height": 74
    },
    "id": "JVSsWoospWG0",
    "outputId": "89d40eb0-2b27-4c51-9d60-ae34b8b14555"
   },
   "outputs": [],
   "source": [
    "\n",
    "# Data Augmentation\n",
    "augmented_X = []\n",
    "augmented_y = []\n",
    "\n",
    "for i in range(len(X_train)):\n",
    "    augmented_X.append(X_train[i])\n",
    "    augmented_y.append(y_train[i])\n",
    "\n",
    "    # Add Gaussian noise to the image\n",
    "    noisy_image = random_noise(X_train[i], var=0.01)\n",
    "    augmented_X.append(noisy_image)\n",
    "    augmented_y.append(y_train[i])\n",
    "\n",
    "    noisy_image = random_noise(X_train[i], mode='s&p', amount=0.01)\n",
    "    augmented_X.append(noisy_image)\n",
    "    augmented_y.append(y_train[i])\n",
    "\n",
    "augmented_X = np.array(augmented_X)\n",
    "augmented_y = np.array(augmented_y)\n",
    "\n",
    "# SVM Model\n",
    "svm_model = SVC(C=1.0, kernel='rbf', probability=True)  # You can adjust C and kernel as needed\n",
    "svm_model.fit(augmented_X, augmented_y)\n",
    "\n"
   ]
  },
  {
   "cell_type": "code",
   "execution_count": 11,
   "metadata": {
    "colab": {
     "base_uri": "https://localhost:8080/"
    },
    "id": "ZZnsbDVRuGqT",
    "outputId": "26f63688-403f-48f6-a812-e3e1eac3506f"
   },
   "outputs": [
    {
     "name": "stdout",
     "output_type": "stream",
     "text": [
      "Best C: 10, Best Kernel: rbf\n"
     ]
    }
   ],
   "source": [
    "from sklearn.preprocessing import StandardScaler\n",
    "from sklearn.model_selection import GridSearchCV, StratifiedKFold\n",
    "\n",
    "scaler = StandardScaler()\n",
    "X_train_scaled = scaler.fit_transform(X_train)\n",
    "X_test_scaled = scaler.transform(X_test)\n",
    "\n",
    "# SVM Model with Hyperparameter Tuning\n",
    "param_grid_svm = {'C': [0.001, 0.01, 0.1, 1, 10, 100], 'kernel': ['linear', 'rbf']}\n",
    "grid_search_svm = GridSearchCV(SVC(probability=True), param_grid_svm, cv=StratifiedKFold(n_splits=5, shuffle=True, random_state=42), n_jobs=-1)\n",
    "grid_search_svm.fit(X_train_scaled, y_train)\n",
    "\n",
    "best_C_svm = grid_search_svm.best_params_['C']\n",
    "best_kernel_svm = grid_search_svm.best_params_['kernel']\n",
    "print(f\"Best C: {best_C_svm}, Best Kernel: {best_kernel_svm}\")"
   ]
  },
  {
   "cell_type": "code",
   "execution_count": 12,
   "metadata": {
    "colab": {
     "base_uri": "https://localhost:8080/"
    },
    "id": "ukuaO_NoqVuM",
    "outputId": "3d1f8ac3-35ce-41d3-b35f-a3beeed8fb0f"
   },
   "outputs": [
    {
     "name": "stdout",
     "output_type": "stream",
     "text": [
      "Test accuracy for SVM: 69.66%\n"
     ]
    }
   ],
   "source": [
    "svm_model = SVC(C=best_C_svm, kernel=best_kernel_svm, probability=True)\n",
    "svm_model.fit(X_train_scaled, y_train)\n",
    "\n",
    "# Evaluate the SVM model\n",
    "y_pred_svm = svm_model.predict(X_test_scaled)\n",
    "test_acc_svm = accuracy_score(y_test, y_pred_svm)\n",
    "print(f\"Test accuracy for SVM: {test_acc_svm * 100:.2f}%\")"
   ]
  }
 ],
 "metadata": {
  "colab": {
   "provenance": []
  },
  "kernelspec": {
   "display_name": "Python 3 (ipykernel)",
   "language": "python",
   "name": "python3"
  },
  "language_info": {
   "codemirror_mode": {
    "name": "ipython",
    "version": 3
   },
   "file_extension": ".py",
   "mimetype": "text/x-python",
   "name": "python",
   "nbconvert_exporter": "python",
   "pygments_lexer": "ipython3",
   "version": "3.11.4"
  }
 },
 "nbformat": 4,
 "nbformat_minor": 1
}
